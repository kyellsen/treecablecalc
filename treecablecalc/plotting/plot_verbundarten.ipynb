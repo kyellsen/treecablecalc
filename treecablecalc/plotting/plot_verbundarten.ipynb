{
 "cells": [
  {
   "cell_type": "code",
   "execution_count": 329,
   "id": "initial_id",
   "metadata": {
    "collapsed": true,
    "ExecuteTime": {
     "end_time": "2024-07-24T10:50:51.362135900Z",
     "start_time": "2024-07-24T10:50:51.347710700Z"
    }
   },
   "outputs": [],
   "source": [
    "import networkx as nx\n",
    "import matplotlib.pyplot as plt\n",
    "import numpy as np\n",
    "from pathlib import Path"
   ]
  },
  {
   "cell_type": "code",
   "execution_count": 330,
   "outputs": [],
   "source": [
    "# Set the directory to save plots\n",
    "SAVE_DIR = Path(r\"C:\\kyellsen\\005_Projekte\\2024_BA\\010_Latex\\Kapitel\\015_Stand_der_Wissenschaft_und_Technik\\Kronensicherungen\\plots\")\n",
    "\n",
    "# Globale Variablen für die Formatierung\n",
    "NODE_SIZE = 5000\n",
    "NODE_COLOR = 'white'\n",
    "NODE_EDGE_COLOR = 'black'\n",
    "LINEWIDTHES = 10\n",
    "EDGE_WIDTH = 5\n",
    "DEVIATION_PERCENTAGE = 25 # 10% zufällige Abweichung\n",
    "RANDOM_SEED = 113"
   ],
   "metadata": {
    "collapsed": false,
    "ExecuteTime": {
     "end_time": "2024-07-24T10:50:51.362135900Z",
     "start_time": "2024-07-24T10:50:51.352093900Z"
    }
   },
   "id": "d34f357b60894626"
  },
  {
   "cell_type": "code",
   "execution_count": 335,
   "outputs": [],
   "source": [
    "def draw_multiple_triangle_connection(num_nodes, node_size, node_color, node_edge_color, lwidths, edge_width, deviation_percentage, random_seed, save_path):\n",
    "    np.random.seed(random_seed)\n",
    "    \n",
    "    G = nx.Graph()\n",
    "    nodes = range(num_nodes)\n",
    "    \n",
    "    # Kanten für den Ringverbund hinzufügen\n",
    "    ring_edges = [(i, (i + 1) % num_nodes) for i in nodes]\n",
    "    G.add_edges_from(ring_edges)\n",
    "    \n",
    "    # Berechnung der Positionen der äußeren Knoten auf einem Kreis mit Zufallsabweichung\n",
    "    angle_step = 2 * np.pi / num_nodes\n",
    "    pos = {}\n",
    "    for i in nodes:\n",
    "        # Zufällige Abweichung des Winkels\n",
    "        angle_deviation = np.random.uniform(-1, 1) * (deviation_percentage / 100)\n",
    "        angle = i * angle_step + angle_deviation\n",
    "        \n",
    "        # Zufällige Abweichung des Radius\n",
    "        radius_deviation = np.random.uniform(-1, 1) * (deviation_percentage / 100)\n",
    "        radius = 1 + radius_deviation\n",
    "        \n",
    "        pos[i] = (radius * np.cos(angle), radius * np.sin(angle))\n",
    "    \n",
    "    # Zusätzliche Linien, um Dreiecke zu bilden\n",
    "    additional_edges = [(i, (i + 2) % num_nodes) for i in nodes]\n",
    "    \n",
    "    # Zeichnen des Graphen\n",
    "    plt.figure(figsize=(8, 8))\n",
    "    \n",
    "    # Zeichnen der Ringkanten\n",
    "    nx.draw(G, pos, edgelist=ring_edges, with_labels=False, node_size=node_size, node_color=node_color,\n",
    "            edgecolors=node_edge_color, linewidths=lwidths, width=edge_width)\n",
    "    \n",
    "    # Zeichnen der zusätzlichen Kanten (Hälfte gestrichelt)\n",
    "    solid_edges = additional_edges[::2]\n",
    "    dashed_edges = additional_edges[1::2]\n",
    "    \n",
    "    nx.draw(G, pos, edgelist=solid_edges, with_labels=False, node_size=node_size, node_color=node_color,\n",
    "            edgecolors=node_edge_color, linewidths=lwidths, width=edge_width)\n",
    "    \n",
    "    nx.draw(G, pos, edgelist=dashed_edges, with_labels=False, node_size=node_size, node_color=node_color,\n",
    "            edgecolors=node_edge_color, linewidths=lwidths, width=edge_width, style=':')\n",
    "    \n",
    "    plt.savefig(save_path)\n",
    "    plt.close()\n",
    "\n",
    "# Save the plots\n",
    "draw_multiple_triangle_connection(2, NODE_SIZE, NODE_COLOR, NODE_EDGE_COLOR, LINEWIDTHES, EDGE_WIDTH, DEVIATION_PERCENTAGE, RANDOM_SEED, SAVE_DIR / \"2_nodes.png\")\n",
    "draw_multiple_triangle_connection(3, NODE_SIZE, NODE_COLOR, NODE_EDGE_COLOR, LINEWIDTHES, EDGE_WIDTH, DEVIATION_PERCENTAGE, RANDOM_SEED, SAVE_DIR / \"3_nodes.png\")\n",
    "draw_multiple_triangle_connection(4, NODE_SIZE, NODE_COLOR, NODE_EDGE_COLOR, LINEWIDTHES, EDGE_WIDTH, DEVIATION_PERCENTAGE, RANDOM_SEED, SAVE_DIR / \"4_nodes.png\")"
   ],
   "metadata": {
    "collapsed": false,
    "ExecuteTime": {
     "end_time": "2024-07-24T10:53:20.625357500Z",
     "start_time": "2024-07-24T10:53:20.262336900Z"
    }
   },
   "id": "d1311d9c6f732a8d"
  },
  {
   "cell_type": "code",
   "execution_count": 332,
   "outputs": [],
   "source": [
    "def draw_ring_connection(num_nodes, node_size, node_color, node_edge_color, lwidths, edge_width, deviation_percentage, random_seed, save_path):\n",
    "    G = nx.Graph()\n",
    "    nodes = range(num_nodes)\n",
    "    # Kanten für den Ringverbund hinzufügen\n",
    "    edges = [(i, (i + 1) % num_nodes) for i in range(num_nodes)]\n",
    "    G.add_edges_from(edges)\n",
    "    \n",
    "       # Berechnung der Positionen der äußeren Knoten auf einem Kreis mit Zufallsabweichung\n",
    "    angle_step = 2 * np.pi / num_nodes\n",
    "    pos = {}\n",
    "    # Zufallsseed setzen\n",
    "    np.random.seed(random_seed)\n",
    "    for i in nodes:\n",
    "        # Zufällige Abweichung des Winkels\n",
    "        angle_deviation = np.random.uniform(-1, 1) * (deviation_percentage / 100)\n",
    "        angle = i * angle_step + angle_deviation\n",
    "        \n",
    "        # Zufällige Abweichung des Radius\n",
    "        radius_deviation = np.random.uniform(-1, 1) * (deviation_percentage / 100)\n",
    "        radius = 1 + radius_deviation\n",
    "        \n",
    "        pos[i] = (radius * np.cos(angle), radius * np.sin(angle))\n",
    "    \n",
    "    # Zeichnen des Graphen\n",
    "    plt.figure(figsize=(8, 8))\n",
    "    nx.draw(G, pos, with_labels=False, node_size=node_size, node_color=node_color,\n",
    "            edgecolors=node_edge_color, linewidths=lwidths, width=edge_width)\n",
    "    plt.savefig(save_path)\n",
    "    plt.close()\n",
    "\n",
    "draw_ring_connection(5, NODE_SIZE, NODE_COLOR, NODE_EDGE_COLOR, LINEWIDTHES, EDGE_WIDTH, DEVIATION_PERCENTAGE, RANDOM_SEED, SAVE_DIR / \"ring_connection.png\")"
   ],
   "metadata": {
    "collapsed": false,
    "ExecuteTime": {
     "end_time": "2024-07-24T10:50:51.750442800Z",
     "start_time": "2024-07-24T10:50:51.675982900Z"
    }
   },
   "id": "9795a33030f0e079"
  },
  {
   "cell_type": "code",
   "execution_count": 333,
   "outputs": [],
   "source": [
    "def draw_central_connection(num_outer_nodes, node_size, node_color, node_edge_color, lwidths, edge_width, deviation_percentage, random_seed, save_path):\n",
    "    G = nx.Graph()\n",
    "    central_node = 'center'\n",
    "    outer_nodes = range(num_outer_nodes)\n",
    "    \n",
    "    # Kanten hinzufügen\n",
    "    G.add_edges_from([(node, central_node) for node in outer_nodes])\n",
    "    \n",
    "    # Berechnung der Positionen der äußeren Knoten auf einem Kreis mit Zufallsabweichung\n",
    "    angle_step = 2 * np.pi / num_outer_nodes\n",
    "    pos = {}\n",
    "    # Zufallsseed setzen\n",
    "    np.random.seed(random_seed)\n",
    "    for i in outer_nodes:\n",
    "        # Zufällige Abweichung des Winkels\n",
    "        angle_deviation = np.random.uniform(-1, 1) * (deviation_percentage / 100)\n",
    "        angle = i * angle_step + angle_deviation\n",
    "        \n",
    "        # Zufällige Abweichung des Radius\n",
    "        radius_deviation = np.random.uniform(-1, 1) * (deviation_percentage / 100)\n",
    "        radius = 1 + radius_deviation\n",
    "        \n",
    "        pos[i] = (radius * np.cos(angle), radius * np.sin(angle))\n",
    "    \n",
    "    # Position des zentralen Knotens\n",
    "    pos[central_node] = (0, 0)\n",
    "    \n",
    "    # Zeichnen des Graphen\n",
    "    plt.figure(figsize=(8, 8))\n",
    "    nx.draw(G, pos, with_labels=False, node_size=node_size, node_color=node_color,\n",
    "            edgecolors=node_edge_color, linewidths=lwidths, width=edge_width)\n",
    "    \n",
    "    # Zeichnen des zentralen Knotens mit anderer Formatierung\n",
    "    nx.draw_networkx_nodes(G, pos, nodelist=[central_node], node_size=node_size*0.2, node_color=\"black\")\n",
    "    plt.savefig(save_path)\n",
    "    plt.close()\n",
    "\n",
    "# Beispielaufruf der Funktion\n",
    "draw_central_connection(5, NODE_SIZE, NODE_COLOR, NODE_EDGE_COLOR, LINEWIDTHES, EDGE_WIDTH, DEVIATION_PERCENTAGE, RANDOM_SEED, SAVE_DIR / \"central_connection.png\")"
   ],
   "metadata": {
    "collapsed": false,
    "ExecuteTime": {
     "end_time": "2024-07-24T10:50:52.078293700Z",
     "start_time": "2024-07-24T10:50:51.750442800Z"
    }
   },
   "id": "60f6dce02282e24b"
  }
 ],
 "metadata": {
  "kernelspec": {
   "display_name": "Python 3",
   "language": "python",
   "name": "python3"
  },
  "language_info": {
   "codemirror_mode": {
    "name": "ipython",
    "version": 2
   },
   "file_extension": ".py",
   "mimetype": "text/x-python",
   "name": "python",
   "nbconvert_exporter": "python",
   "pygments_lexer": "ipython2",
   "version": "2.7.6"
  }
 },
 "nbformat": 4,
 "nbformat_minor": 5
}
